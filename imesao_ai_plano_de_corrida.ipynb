{
  "nbformat": 4,
  "nbformat_minor": 0,
  "metadata": {
    "colab": {
      "provenance": [],
      "gpuType": "T4",
      "authorship_tag": "ABX9TyOGXlvdfgL0aiQS62nitJwN",
      "include_colab_link": true
    },
    "kernelspec": {
      "name": "python3",
      "display_name": "Python 3"
    },
    "language_info": {
      "name": "python"
    },
    "accelerator": "GPU"
  },
  "cells": [
    {
      "cell_type": "markdown",
      "metadata": {
        "id": "view-in-github",
        "colab_type": "text"
      },
      "source": [
        "<a href=\"https://colab.research.google.com/github/adamsdossantos/Projeto_Imersao_AI/blob/main/imesao_ai_plano_de_corrida.ipynb\" target=\"_parent\"><img src=\"https://colab.research.google.com/assets/colab-badge.svg\" alt=\"Open In Colab\"/></a>"
      ]
    },
    {
      "cell_type": "markdown",
      "source": [
        "Instalando o SDK do Google Generative AI"
      ],
      "metadata": {
        "id": "g0k4CfHStLEx"
      }
    },
    {
      "cell_type": "code",
      "execution_count": 6,
      "metadata": {
        "id": "6vI_GZuMzXO9"
      },
      "outputs": [],
      "source": [
        "!pip install -q -U google-generativeai"
      ]
    },
    {
      "cell_type": "markdown",
      "source": [
        "Configurações iniciais, incluindo o api_key"
      ],
      "metadata": {
        "id": "W40KmjmAtS4O"
      }
    },
    {
      "cell_type": "code",
      "source": [
        "import google.generativeai as genai\n",
        "from google.colab import userdata\n",
        "api_key =  userdata.get('secret_key')\n",
        "genai.configure(api_key=api_key)"
      ],
      "metadata": {
        "id": "j9B4t7bQzg5c"
      },
      "execution_count": 7,
      "outputs": []
    },
    {
      "cell_type": "markdown",
      "source": [
        "Listando os modelos disponíveis para escolha\n"
      ],
      "metadata": {
        "id": "kG-IL1FotGTo"
      }
    },
    {
      "cell_type": "code",
      "source": [
        "#Listando os modelos disponíveis\n",
        "for m in genai.list_models():\n",
        "  if 'generateContent' in m.supported_generation_methods:\n",
        "    print(m.name)"
      ],
      "metadata": {
        "colab": {
          "base_uri": "https://localhost:8080/",
          "height": 138
        },
        "id": "xttwlw0Vzv_t",
        "outputId": "c3c0ad2d-fe0f-498c-b711-9099855e5585"
      },
      "execution_count": 8,
      "outputs": [
        {
          "output_type": "stream",
          "name": "stdout",
          "text": [
            "models/gemini-1.0-pro\n",
            "models/gemini-1.0-pro-001\n",
            "models/gemini-1.0-pro-latest\n",
            "models/gemini-1.0-pro-vision-latest\n",
            "models/gemini-1.5-pro-latest\n",
            "models/gemini-pro\n",
            "models/gemini-pro-vision\n"
          ]
        }
      ]
    },
    {
      "cell_type": "markdown",
      "source": [
        "Configurações gerais. Escolhi temperatura baixa para gerar resultados mais parecidos possíveis de acordo com os inputs apresentados"
      ],
      "metadata": {
        "id": "0z0_TagXtbpU"
      }
    },
    {
      "cell_type": "code",
      "source": [
        "generation_config = {\n",
        "  \"candidate_count\": 1,\n",
        "  \"temperature\": 0.1,\n",
        "}"
      ],
      "metadata": {
        "id": "tYbaj3Ms1kVk"
      },
      "execution_count": 27,
      "outputs": []
    },
    {
      "cell_type": "markdown",
      "source": [
        "Nas configurações de segurança escolhi o mais alto possível para manter o resultado bem limpo"
      ],
      "metadata": {
        "id": "sJk-Ee3BtlVX"
      }
    },
    {
      "cell_type": "code",
      "source": [
        "safety_settings={\n",
        "    'HATE': 'BLOCK_LOW_AND_ABOVE',\n",
        "    'HARASSMENT': 'BLOCK_LOW_AND_ABOVE',\n",
        "    'SEXUAL' : 'BLOCK_LOW_AND_ABOVE',\n",
        "    'DANGEROUS' : 'BLOCK_LOW_AND_ABOVE'\n",
        "    }"
      ],
      "metadata": {
        "id": "Zuizx3T98ytZ"
      },
      "execution_count": 10,
      "outputs": []
    },
    {
      "cell_type": "markdown",
      "source": [
        "Na escolha do modelo optei pelo Gemini 1.5 pois ele é o que atende às minhas necessidades. O 1.0 não aceita alguns parâmetros"
      ],
      "metadata": {
        "id": "rQAlX4aOtuA1"
      }
    },
    {
      "cell_type": "code",
      "source": [
        "model = genai.GenerativeModel(model_name='gemini-1.5-pro-latest',\n",
        "                                  generation_config = generation_config,\n",
        "                                  safety_settings = safety_settings,)"
      ],
      "metadata": {
        "id": "JgYNhLwLcY21"
      },
      "execution_count": 11,
      "outputs": []
    },
    {
      "cell_type": "code",
      "source": [
        "from types import BuiltinFunctionType\n",
        "chat = model.start_chat(history=[])\n",
        "\n",
        "\n"
      ],
      "metadata": {
        "id": "SKKRqzEEeXhP"
      },
      "execution_count": 12,
      "outputs": []
    },
    {
      "cell_type": "markdown",
      "source": [
        "Abaixo estão os inputs que gerarão uma resposta personalizada para cada pessoa"
      ],
      "metadata": {
        "id": "GvzhZhDRt7zC"
      }
    },
    {
      "cell_type": "code",
      "source": [
        "nivel = input (str('Qual o seu nível? (escreva iniciante, intermediário, avançado): '))"
      ],
      "metadata": {
        "colab": {
          "base_uri": "https://localhost:8080/"
        },
        "id": "Sr8AKpcLDs7O",
        "outputId": "dffb93ee-b4c5-43a1-dd24-5bac4cf7956a"
      },
      "execution_count": 13,
      "outputs": [
        {
          "name": "stdout",
          "output_type": "stream",
          "text": [
            "Qual o seu nível? (escreva iniciante, intermediário, avançado): iniciante\n"
          ]
        }
      ]
    },
    {
      "cell_type": "code",
      "source": [
        "distancia = input (str(\"Qual distância você quer correr? (5km, 10km, 15km, 21km) \"))"
      ],
      "metadata": {
        "colab": {
          "base_uri": "https://localhost:8080/"
        },
        "id": "prvbO4UdmsL5",
        "outputId": "1ad4d823-8dab-490e-e226-35d7930a4dee"
      },
      "execution_count": 14,
      "outputs": [
        {
          "name": "stdout",
          "output_type": "stream",
          "text": [
            "Qual distância você quer correr? (5km, 10km, 15km, 21km) 10 km\n"
          ]
        }
      ]
    },
    {
      "cell_type": "code",
      "source": [
        "idade =  input (str (\"Qual a sua idade? \"))"
      ],
      "metadata": {
        "colab": {
          "base_uri": "https://localhost:8080/"
        },
        "id": "rYq-1bEphAQm",
        "outputId": "d3306a8a-f185-4025-8f8f-83c3cf1d9f6d"
      },
      "execution_count": 15,
      "outputs": [
        {
          "name": "stdout",
          "output_type": "stream",
          "text": [
            "Qual a sua idade? 41\n"
          ]
        }
      ]
    },
    {
      "cell_type": "code",
      "source": [
        "dias = input (str (\"Quantos dias por semana você poder correr? \"))"
      ],
      "metadata": {
        "colab": {
          "base_uri": "https://localhost:8080/"
        },
        "id": "M_v9THEXhvwH",
        "outputId": "b4f15113-6870-4bcd-e8be-ce3f987022a8"
      },
      "execution_count": 16,
      "outputs": [
        {
          "name": "stdout",
          "output_type": "stream",
          "text": [
            "Quantos dias por semana você poder correr? 4\n"
          ]
        }
      ]
    },
    {
      "cell_type": "code",
      "source": [
        "comeco = input (str(\"Qual dia da semana você pode começar a correr? \"))"
      ],
      "metadata": {
        "colab": {
          "base_uri": "https://localhost:8080/"
        },
        "id": "t94eof-v-Kvd",
        "outputId": "23a251d1-68c4-41b8-95ac-fb3e235bfd52"
      },
      "execution_count": 17,
      "outputs": [
        {
          "name": "stdout",
          "output_type": "stream",
          "text": [
            "Qual dia da semana você pode começar a correr? segunda\n"
          ]
        }
      ]
    },
    {
      "cell_type": "code",
      "source": [
        "tempo =  input (str(\"Por quanto tempo você consegue correr por dia ? (em minutos) \"))"
      ],
      "metadata": {
        "colab": {
          "base_uri": "https://localhost:8080/"
        },
        "id": "FxeV-anAiBWw",
        "outputId": "9904e0e8-4d82-415d-b083-57df2bb45089"
      },
      "execution_count": 18,
      "outputs": [
        {
          "name": "stdout",
          "output_type": "stream",
          "text": [
            "Por quanto tempo você consegue correr por dia ? (em minutos) 30\n"
          ]
        }
      ]
    },
    {
      "cell_type": "markdown",
      "source": [
        "Na chamada do prompt temos um \"F string\" que usa todas as informações dos inputs acima para gerar um resultado personalizado"
      ],
      "metadata": {
        "id": "jywOTNncuExu"
      }
    },
    {
      "cell_type": "code",
      "source": [
        "prompt = f\"sugira uma planilha de corrida de 7 semanas para um corredor {nivel}, que quer correr {distancia}, que tem {idade}, que pode correr {dias} por semana, que pode começar na {comeco}, que pode correr {tempo} minutos por dia.\"\n",
        "response = model.generate_content( prompt)\n",
        "print(response.text)"
      ],
      "metadata": {
        "id": "7ZR_LukMyWZR",
        "colab": {
          "base_uri": "https://localhost:8080/",
          "height": 1000
        },
        "outputId": "d81a7273-cca2-4968-e12b-0da97cc5e770"
      },
      "execution_count": 56,
      "outputs": [
        {
          "output_type": "stream",
          "name": "stdout",
          "text": [
            "## Plano de Corrida de 7 Semanas para Correr 10km (Iniciante 41 anos)\n",
            "\n",
            "**Objetivo:** Correr 10km em 7 semanas, com 4 treinos por semana, 30 minutos por dia.\n",
            "\n",
            "**Considerações:**\n",
            "\n",
            "* Este plano é adaptado para um corredor iniciante de 41 anos, com tempo limitado para treinar. \n",
            "* É fundamental ouvir seu corpo e descansar quando necessário. \n",
            "* A progressão gradual é a chave para evitar lesões.\n",
            "* Consulte um médico antes de iniciar qualquer programa de exercícios.\n",
            "\n",
            "**Legenda:**\n",
            "\n",
            "* **S:** Segunda-feira\n",
            "* **T:** Terça-feira\n",
            "* **Q:** Quarta-feira\n",
            "* **QI:** Quinta-feira\n",
            "* **SE:** Sexta-feira\n",
            "* **SA:** Sábado\n",
            "* **D:** Domingo\n",
            "* **C:** Corrida leve (ritmo conversacional)\n",
            "* **R:** Caminhada rápida\n",
            "* **D:** Descanso\n",
            "\n",
            "**Semana 1**\n",
            "\n",
            "| Dia  | Treino             | Tempo     |\n",
            "|------|--------------------|------------|\n",
            "| S    | C + R              | 30 min    |\n",
            "| T    | D                  | -          |\n",
            "| Q    | C + R              | 30 min    |\n",
            "| QI   | D                  | -          |\n",
            "| SE   | C + R              | 30 min    |\n",
            "| SA   | D                  | -          |\n",
            "| D    | R                  | 30 min    |\n",
            "\n",
            "**Semana 2**\n",
            "\n",
            "| Dia  | Treino             | Tempo     |\n",
            "|------|--------------------|------------|\n",
            "| S    | C (20 min) + R (10 min) | 30 min    |\n",
            "| T    | D                  | -          |\n",
            "| Q    | C (20 min) + R (10 min) | 30 min    |\n",
            "| QI   | D                  | -          |\n",
            "| SE   | C (25 min) + R (5 min) | 30 min    |\n",
            "| SA   | D                  | -          |\n",
            "| D    | R                  | 30 min    |\n",
            "\n",
            "**Semana 3**\n",
            "\n",
            "| Dia  | Treino             | Tempo     |\n",
            "|------|--------------------|------------|\n",
            "| S    | C (25 min) + R (5 min) | 30 min    |\n",
            "| T    | D                  | -          |\n",
            "| Q    | C (25 min) + R (5 min) | 30 min    |\n",
            "| QI   | D                  | -          |\n",
            "| SE   | C (30 min)          | 30 min    |\n",
            "| SA   | D                  | -          |\n",
            "| D    | R                  | 40 min    |\n",
            "\n",
            "**Semana 4**\n",
            "\n",
            "| Dia  | Treino             | Tempo     |\n",
            "|------|--------------------|------------|\n",
            "| S    | C (25 min) + R (5 min) | 30 min    |\n",
            "| T    | D                  | -          |\n",
            "| Q    | C (30 min)          | 30 min    |\n",
            "| QI   | D                  | -          |\n",
            "| SE   | C (35 min)          | 35 min    |\n",
            "| SA   | D                  | -          |\n",
            "| D    | R                  | 40 min    |\n",
            "\n",
            "**Semana 5**\n",
            "\n",
            "| Dia  | Treino             | Tempo     |\n",
            "|------|--------------------|------------|\n",
            "| S    | C (30 min) + R (5 min) | 35 min    |\n",
            "| T    | D                  | -          |\n",
            "| Q    | C (35 min)          | 35 min    |\n",
            "| QI   | D                  | -          |\n",
            "| SE   | C (40 min)          | 40 min    |\n",
            "| SA   | D                  | -          |\n",
            "| D    | R                  | 45 min    |\n",
            "\n",
            "**Semana 6**\n",
            "\n",
            "| Dia  | Treino             | Tempo     |\n",
            "|------|--------------------|------------|\n",
            "| S    | C (35 min) + R (5 min) | 40 min    |\n",
            "| T    | D                  | -          |\n",
            "| Q    | C (40 min)          | 40 min    |\n",
            "| QI   | D                  | -          |\n",
            "| SE   | C (45 min)          | 45 min    |\n",
            "| SA   | D                  | -          |\n",
            "| D    | R                  | 50 min    |\n",
            "\n",
            "**Semana 7**\n",
            "\n",
            "| Dia  | Treino             | Tempo     |\n",
            "|------|--------------------|------------|\n",
            "| S    | C (40 min) + R (5 min) | 45 min    |\n",
            "| T    | D                  | -          |\n",
            "| Q    | C (45 min)          | 45 min    |\n",
            "| QI   | D                  | -          |\n",
            "| SE   | C (50 min)          | 50 min    |\n",
            "| SA   | D                  | -          |\n",
            "| D    | **Corrida de 10km!** | -          |\n",
            "\n",
            "**Dicas:**\n",
            "\n",
            "* Use tênis de corrida adequados e roupas confortáveis.\n",
            "* Hidrate-se bem antes, durante e depois dos treinos.\n",
            "* Faça um aquecimento antes de cada corrida e alongamento após.\n",
            "* Ajuste o plano conforme necessário, ouvindo seu corpo.\n",
            "* Comemore cada conquista! \n",
            "\n",
            "Lembre-se: este plano é um guia, faça adaptações necessárias para se adequar à sua realidade. O importante é se manter ativo, consistente e alcançar seus objetivos de forma saudável e prazerosa!\n"
          ]
        }
      ]
    },
    {
      "cell_type": "code",
      "source": [
        "\n"
      ],
      "metadata": {
        "id": "TpNVhyX9ooYn"
      },
      "execution_count": null,
      "outputs": []
    }
  ]
}